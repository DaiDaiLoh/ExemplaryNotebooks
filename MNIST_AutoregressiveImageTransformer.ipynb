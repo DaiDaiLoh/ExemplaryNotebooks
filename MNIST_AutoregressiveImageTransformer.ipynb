{
 "cells": [
  {
   "cell_type": "markdown",
   "metadata": {},
   "source": [
    "<h1>Autoregressive Image Transformer</h1>\n",
    "This a minimal example of an autoregressive transformer that produces images.<br/>\n",
    "Normally, you'd apply this e.g. on the learned tokens of a VQ-VAE or VQGAN or QG-VAE (see my other repos).<br/>\n",
    "However, you can also do it in pixel space directly. This is somewhat difficult for high resolution images (computing attention scores between a million pixels is going to explode your GPU memory, probably even for 3-coloured 32-by-32 CIFAR images).<br/>\n",
    "To demonstrate, this example here performs on 12-by-12 MNIST - in theory, you can scale that up to e.g. 32-by-32 tokens of a VQGAN to already generate pretty pictures.<br/>\n",
    "<br/>\n",
    "<br/>\n",
    "<font color=\"red\"><b>Disclaimer:</b></font> This code is not made to be particularly performant or perfect - it's meant to show how transformers for autoregressive generation work, and meant to run a tuna can!"
   ]
  },
  {
   "cell_type": "markdown",
   "metadata": {},
   "source": [
    "Literature I recommend:<br/>\n",
    "1. The Transformer Paper, Vaswani et al.: https://arxiv.org/abs/1706.03762 (difficult read)<br/>\n",
    "(Alternative, that's a bit more understandable: https://jalammar.github.io/illustrated-transformer/ - note that this explains a full transformer, we need only the encoder part)<br/>\n",
    "2. Taming Transformers for High-Resolution Image Synthesis (VQGAN): https://arxiv.org/abs/2012.09841"
   ]
  },
  {
   "cell_type": "markdown",
   "metadata": {},
   "source": [
    "<h1>What this code does:</h1>\n",
    "Basically, we just take an input image (here: 12-by-12 greyscale images of MNIST, i.e. handwritten digits), then makes a linear sequence of so called \"tokens\" out of them (values 0 to 255).<br/>\n",
    "This linear sequence is then altered by a positional encoding, i.e. an annotation that says \"this token is at position x=3, y=10\".<br/>\n",
    "Then, we throw these tokens into an autoregressive <b>encoder only</b> transformer. Encoder only here means: We only produce one sequence, instead of doing sequence-to-sequence translation (Example: We give the transformer an english sentence and then, autoregressively, produce token by token the translated sentence - this is what a full transformer does). In our case, we do <b>not</b> have a fully given sequence at the start, we want to generate one out of thin air (=autoregressive generation), hence we only take the \"transformer encoder\"(terminology is a bit weird here).<br/><br/>\n",
    "What the transformer itself does, is basically saying: We compare each input token to each other input token that we have, and compute pairwise scores for them (\"attention\"). Then, we produce a tokens from that for every input token by linearly combining the tokens according to these scores, producing the same number of tokens.<br/>\n",
    "At the end, there is an additional \"classification head\" that takes the output, then makes a prediction (=gives token-many values) that we can use to guess what the next token should be. Transformers also do a trick (masking attention scores) to make this really fast, by not only inputting a certain sequence length of k, then predicting the k+1th item, but instead predicting all possible sequence lengths at once.<br/><br/>\n",
    "By starting with an empty sequence, then predicting the first token, then predicting the second token, then the ... until we have n tokens, we can generate new content."
   ]
  },
  {
   "cell_type": "markdown",
   "metadata": {},
   "source": [
    "<h1>1. Pre-sets: </h1>"
   ]
  },
  {
   "cell_type": "code",
   "execution_count": 1,
   "metadata": {},
   "outputs": [],
   "source": [
    "import torch\n",
    "from torchvision import datasets, transforms\n",
    "from torch.utils.data import DataLoader\n",
    "import time\n",
    "import matplotlib.pyplot as plt\n",
    "import math\n",
    "import numpy as np\n",
    "import torch.nn as nn\n",
    "import random"
   ]
  },
  {
   "cell_type": "code",
   "execution_count": 2,
   "metadata": {},
   "outputs": [],
   "source": [
    "NUM_TOKENS = 256 #number of tokens, here: greyscale colour values, from 0 to 255\n",
    "BATCH_SIZE = 64\n",
    "\n",
    "#transformer hyper parameters:\n",
    "DIMENSIONS = 64 #basically what channels are to a regular NN\n",
    "NUM_HEADS = 8 #number of heads, i.e. we split the input into 8 parts and process them in parallel, with the same architecture. this is the \"multi-head\" part of the transformer\n",
    "NUM_LAYERS = 8 #number of layers in the transformer, i.e. how many times we apply the same architecture to the input\n",
    "\n",
    "#we COULD do this example without these, but it is easier to do like this for future experiments\n",
    "SOS_token = torch.tensor([NUM_TOKENS]) #we use this token to signal the start of a sequence\n",
    "EOS_token = torch.tensor([NUM_TOKENS+1]) #we use this token to signal the end of a sequence"
   ]
  },
  {
   "cell_type": "code",
   "execution_count": 3,
   "metadata": {},
   "outputs": [],
   "source": [
    "assert(DIMENSIONS % 4 == 0) #for the positional encoding to work, the number of dimensions must be divisible by 4 because we describe the position as sine and cosine for x and y position\n",
    "assert(DIMENSIONS % NUM_HEADS == 0) #the number of dimensions must be divisible by the number of heads: the dimensions are split between the heads"
   ]
  },
  {
   "cell_type": "markdown",
   "metadata": {},
   "source": [
    "<h1>2. Dataloader:</h1> Load MNIST, then transform it to 12-by-12 pixel (to make things work quickly - feel free to try & see 28-by-28)"
   ]
  },
  {
   "cell_type": "code",
   "execution_count": 4,
   "metadata": {},
   "outputs": [],
   "source": [
    "WIDTH = 12\n",
    "HEIGHT = 12"
   ]
  },
  {
   "cell_type": "code",
   "execution_count": 5,
   "metadata": {},
   "outputs": [
    {
     "name": "stderr",
     "output_type": "stream",
     "text": [
      "d:\\ProgramData\\anaconda3\\lib\\site-packages\\torchvision\\transforms\\functional.py:1603: UserWarning: The default value of the antialias parameter of all the resizing transforms (Resize(), RandomResizedCrop(), etc.) will change from None to True in v0.17, in order to be consistent across the PIL and Tensor backends. To suppress this warning, directly pass antialias=True (recommended, future default), antialias=None (current default, which means False for Tensors and True for PIL), or antialias=False (only works on Tensors - PIL will still use antialiasing). This also applies if you are using the inference transforms from the models weights: update the call to weights.transforms(antialias=True).\n",
      "  warnings.warn(\n"
     ]
    },
    {
     "data": {
      "image/png": "[encoded data removed]",
      "text/plain": [
       "<Figure size 640x480 with 1 Axes>"
      ]
     },
     "metadata": {},
     "output_type": "display_data"
    },
    {
     "name": "stdout",
     "output_type": "stream",
     "text": [
      "torch.Size([64, 146])\n"
     ]
    }
   ],
   "source": [
    "DEVICE = torch.device('cuda' if torch.cuda.is_available() else 'cpu')\n",
    "\n",
    "#resize to 16-by-16\n",
    "transform = transforms.Compose([transforms.ToTensor(), transforms.Resize((WIDTH, HEIGHT))])\n",
    "mnist_trainset = datasets.MNIST(root='./data', train=True, download=True, transform=transform)\n",
    "mnist_testnset = datasets.MNIST(root='./data', train=False, download=True, transform=transform)\n",
    "train_loader = DataLoader(mnist_trainset, batch_size=BATCH_SIZE, shuffle=True)\n",
    "test_loader = DataLoader(mnist_testnset, batch_size=BATCH_SIZE, shuffle=True)\n",
    "\n",
    "def show(img):\n",
    "    assert(len(img.size()) == 3)\n",
    "    plt.imshow(img.clamp(0.0, 1.0).squeeze(), cmap='gray')\n",
    "    plt.show()\n",
    "\n",
    "def tokenise(img):\n",
    "    #turn into token indices; round to the nearest integer, clamp to 0-255, turn into a long\n",
    "    tokens = (img.view(img.size()[0], -1) * 255.0).round().clamp(0, 255).long()\n",
    "    #then, we add the start-of-sequence token (SOS) and end-of-sequence token (EOS) tokens:\n",
    "    return torch.cat([SOS_token[:,None].repeat(tokens.size()[0], 1), tokens, EOS_token[:,None].repeat(tokens.size()[0], 1)], 1)\n",
    "\n",
    "for img, label in train_loader:\n",
    "    show(img[0])\n",
    "    out = tokenise(img)\n",
    "    print(out.size())\n",
    "    break"
   ]
  },
  {
   "cell_type": "markdown",
   "metadata": {},
   "source": [
    "<h1>3. The transformer itself</h1>"
   ]
  },
  {
   "cell_type": "code",
   "execution_count": 6,
   "metadata": {},
   "outputs": [
    {
     "data": {
      "text/plain": [
       "torch.Size([12, 12, 40])"
      ]
     },
     "execution_count": 6,
     "metadata": {},
     "output_type": "execute_result"
    }
   ],
   "source": [
    "#this thing here is a positional encoding, which is used to give the transformer some notion of where in the image the token is\n",
    "#i.e. we add that to a token to not only say \"this token has greyscale value X\", but also \"this token is at position (x, y)\"\n",
    "#if we would not do that: transformers are INVARIANT to the order of the input, so we would not be able to tell the difference between the position of the tokens\n",
    "#basically, this just describes the position as sine/cosine functions of the position, which is easier to process for a NN than just writing the position as a single value\n",
    "def grid_positional_encoding(embed_dims):\n",
    "    grid = torch.ones(WIDTH, HEIGHT, 2)\n",
    "    for x in range(0, WIDTH):\n",
    "        grid[x,:,0] = x / WIDTH\n",
    "    for y in range(0, HEIGHT):\n",
    "        grid[:,y,1] = y / HEIGHT\n",
    "    rets = []\n",
    "    for i in range(embed_dims):\n",
    "        for fn in [torch.sin, torch.cos]:\n",
    "            rets.append(fn((2. ** i) * grid))\n",
    "    return torch.cat(rets, -1)\n",
    "\n",
    "#returns a width-by-height-by-embed_dims*4 tensor (4 because we have sin and cos for both x- and y dimension)\n",
    "grid_positional_encoding(10).size()"
   ]
  },
  {
   "cell_type": "code",
   "execution_count": 7,
   "metadata": {},
   "outputs": [
    {
     "name": "stdout",
     "output_type": "stream",
     "text": [
      "Transformer has  2572866  parameters.\n"
     ]
    }
   ],
   "source": [
    "#this is the transformer model, which has the TransformerEncoder at it's core\n",
    "#it also does a little other stuff, like embedding the tokens and adding the positional encoding, and applying a linear layer at the end to get the classification output\n",
    "class TransformerEncoderModel(nn.Module):\n",
    "    def __init__(self):\n",
    "        super().__init__()\n",
    "\n",
    "        #the encoder-only transformer, the is built out of NUM_LAYER-many encoder layers\n",
    "        self.encoder_layer = nn.TransformerEncoderLayer(d_model=DIMENSIONS, nhead=NUM_HEADS, batch_first=True)\n",
    "        self.transformer = torch.nn.TransformerEncoder(self.encoder_layer, num_layers=NUM_LAYERS)\n",
    "\n",
    "        #train an embedding of the tokens along with the model: encoding greyscale scalar values directly is always harder to learn for a NN than some higher dimensional embedding\n",
    "        self.embedding = nn.Embedding(NUM_TOKENS+2, DIMENSIONS) #we have our greyscale values PLUS the start/end token\n",
    "        self.pos_embeddings = torch.nn.Parameter(grid_positional_encoding(int(DIMENSIONS/4)).view(WIDTH*HEIGHT, -1), requires_grad=False) #[w x h x dim*4]\n",
    "\n",
    "        #this turns our transformer output into (logits of) a probability distribution over the tokens\n",
    "        #i.e. says \"which token is most likely to come next\"\n",
    "        self.linear = nn.Linear(DIMENSIONS, NUM_TOKENS+2)\n",
    "    \n",
    "    #this produces a mask for the transformer, which is used to mask out the future tokens in the sequence\n",
    "    #i.e. this to make sure we not only train for a sequence of length k to predict the k+1th token, but to predict\n",
    "    #all tokens in the sequence at once\n",
    "    def get_target_mask(self, squence_length):\n",
    "        #2d mask:\n",
    "        #  [0., -inf, -inf],\n",
    "        #  [0.,   0., -inf],\n",
    "        #  [0.,   0.,   0.]\n",
    "        #  etc.\n",
    "        \n",
    "        #produce a lower triangular matrix\n",
    "        mask = torch.tril(torch.ones(squence_length, squence_length) == 1).float()\n",
    "        mask = mask.masked_fill(mask == 0, float('-inf')) #set the values to -inf, because that (in the softmax inside the transformer) will make the values 0\n",
    "        mask = mask.masked_fill(mask == 1, float(0.0))\n",
    "        return mask\n",
    "    \n",
    "    def forward(self, tokens):\n",
    "        #INPUT: a FULL sequence of tokens, starting witH SOS token, followed by 12-by-12 greyscale values, followed by an EOS token\n",
    "        #1. embed tokens\n",
    "        tokens = self.embedding(tokens)\n",
    "        #2. add positional embeddings, but don't add positional embeddings for the SOS and EOS tokens\n",
    "        tokens[:, 1:(WIDTH*HEIGHT+1)] = tokens[:, 1:(WIDTH*HEIGHT+1)] + self.pos_embeddings[0:tokens[:, 1:(WIDTH*HEIGHT+1)].size()[1]]\n",
    "        #3. apply transformer to [b X seq X d], then apply the linear layer that acts as a classifier (\"which token is next?\")\n",
    "        #note that we only apply the transformer to all but the last token, as we never need to predict what comes after the EOS token\n",
    "        return self.linear(self.transformer(tokens[:,:-1], self.get_target_mask(squence_length=tokens.size()[1]-1).to(tokens.device), is_causal=True))\n",
    "    \n",
    "    def predict(self, tokens):\n",
    "        #same as forward, but we always want to predict the next token (we will throw in incomplete sequences in here, e.g. predicting the 4th token from the first 3)\n",
    "        tokens = self.embedding(tokens)\n",
    "        tokens[:, 1:(WIDTH*HEIGHT+1)] = tokens[:, 1:(WIDTH*HEIGHT+1)] + self.pos_embeddings[0:tokens[:, 1:(WIDTH*HEIGHT+1)].size()[1]]\n",
    "        return self.linear(self.transformer(tokens, self.get_target_mask(squence_length=tokens.size()[1]).to(tokens.device), is_causal=True))\n",
    "\n",
    "#create the model & test to throw some stuff in there\n",
    "transformer_encoder = TransformerEncoderModel()\n",
    "print(\"Transformer has \", sum(p.numel() for p in transformer_encoder.parameters()), \" parameters.\")\n",
    "input = torch.randint(0, 256, (BATCH_SIZE, WIDTH*HEIGHT+2))\n",
    "input[:,0] = SOS_token\n",
    "input[:,-1] = EOS_token\n",
    "output = transformer_encoder(input)"
   ]
  },
  {
   "cell_type": "markdown",
   "metadata": {},
   "source": [
    "<h1>4. Sampling strategies to obtain tokens from the output of the transformer</h1>"
   ]
  },
  {
   "cell_type": "code",
   "execution_count": 8,
   "metadata": {},
   "outputs": [],
   "source": [
    "EPSILON = 0.01\n",
    "#nucleus sampling basically says: sample from the most likely tokens, but only include so many of them that their cumulative probability is below a certain threshold\n",
    "#this filters out very unlikely tokens (networks rarely output exactly zero probability), but also allows for some randomness in the sampling\n",
    "def nucleus(data, threshold=0.9):\n",
    "    #sort all tokens by probability, then calculate the cumulative probability (i.e. the probability of the most likely token, the two most likely tokens, the three most likely tokens, etc.)\n",
    "    sorted_probs, sorted_indices = torch.sort(data, descending=True, dim=-1)\n",
    "    cum_probs = torch.cumsum(sorted_probs, dim=-1)\n",
    "    mask = cum_probs <= threshold #find the point where we have enough tokens to reach the threshold, i.e. we have the most likely tokens we want to sample from\n",
    "    mask[:,0] = True #make sure we always include at least the most likely token\n",
    "    filtered_probs = torch.where(mask, sorted_probs, torch.zeros_like(sorted_probs)) #set probabilities to zero for all that are not in the top-k that form the most likely tokens\n",
    "    sampled_indices = torch.multinomial(filtered_probs, num_samples=1) #sample from the filtered probabilities\n",
    "    selected_indices = sorted_indices.gather(dim=-1, index=sampled_indices) #get the original indices of the sampled tokens (the currently sampled ones are indices from the sorted list)\n",
    "    return selected_indices.squeeze(-1)\n",
    "\n",
    "def sample(data, strategy=\"multinomial\"):\n",
    "    data = data[:,-1:].view(-1, NUM_TOKENS + 2) + EPSILON #make sure we never have exactly zero probability\n",
    "    #print(data.size())\n",
    "    data = torch.nn.functional.softmax(data, -1)\n",
    "    if strategy == \"max\":\n",
    "        #sample the largest value from the model - will usually not look good, but is useful for debugging\n",
    "        return data.argmax(-1)[:,None]\n",
    "    elif strategy == \"nucleus\":\n",
    "        return nucleus(data)[:,None]\n",
    "    else:\n",
    "        #sample just randomly; Will look okay, but can have some weird artifacts because it can pick super unlikely tokens\n",
    "        return torch.multinomial(data, num_samples=1)\n",
    "\n",
    "#autoregressively generate samples:\n",
    "#start with the SOS token, then predict the next token, then predict the next token, etc. until we have a full 12x12 image\n",
    "def generate_samples(strategy=\"multinomial\"):\n",
    "    with torch.no_grad():\n",
    "        sampled = torch.zeros(16, 1).long().to(DEVICE)\n",
    "        sampled[:,0] = SOS_token.item()\n",
    "        \n",
    "        while sampled.size()[1] < WIDTH*HEIGHT+2:\n",
    "            predicted = sample(transformer_encoder.predict(sampled), strategy)\n",
    "            \n",
    "            sampled = torch.cat([sampled, predicted], 1)\n",
    "        sampled = sampled[:,1:-1].view(sampled.size()[0], 1, WIDTH, HEIGHT)\n",
    "        sampled = sampled.float()\n",
    "        sampled /= 255.0\n",
    "        sampled.clamp(0.0, 1.0)\n",
    "        result = torch.zeros(1, WIDTH*4, HEIGHT*4)\n",
    "        for x in range(4):\n",
    "            for y in range(4):\n",
    "                result[:,x*WIDTH:(x+1)*WIDTH,y*HEIGHT:(y+1)*HEIGHT] = sampled[x*4+y]\n",
    "        show(result)"
   ]
  },
  {
   "cell_type": "markdown",
   "metadata": {},
   "source": [
    "<h1>5. Train the model</h1>\n",
    "Note that usually, you'll often need some warmup or some learning rate scheduler to make your network converge properly - this is not needed here, hence I left it out for simplicity"
   ]
  },
  {
   "cell_type": "markdown",
   "metadata": {},
   "source": [
    "<b>Note:</b> This should start to look like something after about 5 epochs (~5 mins on an Nvidia RTX 4080)"
   ]
  },
  {
   "cell_type": "code",
   "execution_count": 9,
   "metadata": {},
   "outputs": [
    {
     "name": "stderr",
     "output_type": "stream",
     "text": [
      "C:\\Users\\Jack_\\AppData\\Roaming\\Python\\Python310\\site-packages\\torch\\nn\\_reduction.py:42: UserWarning: size_average and reduce args will be deprecated, please use reduction='mean' instead.\n",
      "  warnings.warn(warning.format(ret))\n"
     ]
    },
    {
     "name": "stdout",
     "output_type": "stream",
     "text": [
      "Transformer has  2572866  parameters.\n",
      "\t\ttraining...\n"
     ]
    },
    {
     "name": "stderr",
     "output_type": "stream",
     "text": [
      "100%|██████████| 938/938 [00:49<00:00, 18.94it/s]\n"
     ]
    },
    {
     "name": "stdout",
     "output_type": "stream",
     "text": [
      "\tTRAIN LOSS:  0.15304348103479662\n",
      "\t\ttesting...\n"
     ]
    },
    {
     "name": "stderr",
     "output_type": "stream",
     "text": [
      "  0%|          | 0/157 [00:00<?, ?it/s]C:\\Users\\Jack_\\AppData\\Roaming\\Python\\Python310\\site-packages\\torch\\nn\\modules\\transformer.py:544: UserWarning: Converting mask without torch.bool dtype to bool; this will negatively affect performance. Prefer to use a boolean mask directly. (Triggered internally at ..\\aten\\src\\ATen\\native\\transformers\\attention.cpp:152.)\n",
      "  return torch._transformer_encoder_layer_fwd(\n",
      "100%|██████████| 157/157 [00:03<00:00, 45.85it/s]\n"
     ]
    },
    {
     "name": "stdout",
     "output_type": "stream",
     "text": [
      "\tTEST LOSS:  0.02900308975653284\n",
      "\tGENERATING EXAMPLES...\n",
      "Results with nucleus sampling:\n"
     ]
    },
    {
     "data": {
      "image/png": "[encoded data removed]",
      "text/plain": [
       "<Figure size 640x480 with 1 Axes>"
      ]
     },
     "metadata": {},
     "output_type": "display_data"
    },
    {
     "name": "stdout",
     "output_type": "stream",
     "text": [
      "***DONE WITH EPOCH  0  ***\n",
      "\t\ttraining...\n"
     ]
    },
    {
     "name": "stderr",
     "output_type": "stream",
     "text": [
      "100%|██████████| 938/938 [00:49<00:00, 19.10it/s]\n"
     ]
    },
    {
     "name": "stdout",
     "output_type": "stream",
     "text": [
      "\tTRAIN LOSS:  0.01805552071842081\n",
      "\t\ttesting...\n"
     ]
    },
    {
     "name": "stderr",
     "output_type": "stream",
     "text": [
      "100%|██████████| 157/157 [00:03<00:00, 44.03it/s]\n"
     ]
    },
    {
     "name": "stdout",
     "output_type": "stream",
     "text": [
      "\tTEST LOSS:  0.012255842103415234\n",
      "\tGENERATING EXAMPLES...\n",
      "Results with nucleus sampling:\n"
     ]
    },
    {
     "data": {
      "image/png": "[encoded data removed]",
      "text/plain": [
       "<Figure size 640x480 with 1 Axes>"
      ]
     },
     "metadata": {},
     "output_type": "display_data"
    },
    {
     "name": "stdout",
     "output_type": "stream",
     "text": [
      "***DONE WITH EPOCH  1  ***\n",
      "\t\ttraining...\n"
     ]
    },
    {
     "name": "stderr",
     "output_type": "stream",
     "text": [
      "100%|██████████| 938/938 [00:49<00:00, 19.00it/s]\n"
     ]
    },
    {
     "name": "stdout",
     "output_type": "stream",
     "text": [
      "\tTRAIN LOSS:  0.010283966050314496\n",
      "\t\ttesting...\n"
     ]
    },
    {
     "name": "stderr",
     "output_type": "stream",
     "text": [
      "100%|██████████| 157/157 [00:03<00:00, 44.48it/s]\n"
     ]
    },
    {
     "name": "stdout",
     "output_type": "stream",
     "text": [
      "\tTEST LOSS:  0.008949917936875561\n",
      "\tGENERATING EXAMPLES...\n",
      "Results with nucleus sampling:\n"
     ]
    },
    {
     "data": {
      "image/png": "[encoded data removed]",
      "text/plain": [
       "<Figure size 640x480 with 1 Axes>"
      ]
     },
     "metadata": {},
     "output_type": "display_data"
    },
    {
     "name": "stdout",
     "output_type": "stream",
     "text": [
      "***DONE WITH EPOCH  2  ***\n",
      "\t\ttraining...\n"
     ]
    },
    {
     "name": "stderr",
     "output_type": "stream",
     "text": [
      "100%|██████████| 938/938 [00:49<00:00, 18.92it/s]\n"
     ]
    },
    {
     "name": "stdout",
     "output_type": "stream",
     "text": [
      "\tTRAIN LOSS:  0.008300741301424532\n",
      "\t\ttesting...\n"
     ]
    },
    {
     "name": "stderr",
     "output_type": "stream",
     "text": [
      "100%|██████████| 157/157 [00:03<00:00, 44.77it/s]\n"
     ]
    },
    {
     "name": "stdout",
     "output_type": "stream",
     "text": [
      "\tTEST LOSS:  0.007686028651489763\n",
      "\tGENERATING EXAMPLES...\n",
      "Results with nucleus sampling:\n"
     ]
    },
    {
     "data": {
      "image/png": "[encoded data removed]",
      "text/plain": [
       "<Figure size 640x480 with 1 Axes>"
      ]
     },
     "metadata": {},
     "output_type": "display_data"
    },
    {
     "name": "stdout",
     "output_type": "stream",
     "text": [
      "***DONE WITH EPOCH  3  ***\n",
      "\t\ttraining...\n"
     ]
    },
    {
     "name": "stderr",
     "output_type": "stream",
     "text": [
      "100%|██████████| 938/938 [00:49<00:00, 18.90it/s]\n"
     ]
    },
    {
     "name": "stdout",
     "output_type": "stream",
     "text": [
      "\tTRAIN LOSS:  0.007408270494206183\n",
      "\t\ttesting...\n"
     ]
    },
    {
     "name": "stderr",
     "output_type": "stream",
     "text": [
      "100%|██████████| 157/157 [00:03<00:00, 43.80it/s]\n"
     ]
    },
    {
     "name": "stdout",
     "output_type": "stream",
     "text": [
      "\tTEST LOSS:  0.007023663681214023\n",
      "\tGENERATING EXAMPLES...\n",
      "Results with nucleus sampling:\n"
     ]
    },
    {
     "data": {
      "image/png": "[encoded data removed]",
      "text/plain": [
       "<Figure size 640x480 with 1 Axes>"
      ]
     },
     "metadata": {},
     "output_type": "display_data"
    },
    {
     "name": "stdout",
     "output_type": "stream",
     "text": [
      "***DONE WITH EPOCH  4  ***\n",
      "\t\ttraining...\n"
     ]
    },
    {
     "name": "stderr",
     "output_type": "stream",
     "text": [
      "100%|██████████| 938/938 [00:50<00:00, 18.54it/s]\n"
     ]
    },
    {
     "name": "stdout",
     "output_type": "stream",
     "text": [
      "\tTRAIN LOSS:  0.006911230164327855\n",
      "\t\ttesting...\n"
     ]
    },
    {
     "name": "stderr",
     "output_type": "stream",
     "text": [
      "100%|██████████| 157/157 [00:03<00:00, 43.64it/s]\n"
     ]
    },
    {
     "name": "stdout",
     "output_type": "stream",
     "text": [
      "\tTEST LOSS:  0.006619724175139408\n",
      "\tGENERATING EXAMPLES...\n",
      "Results with nucleus sampling:\n"
     ]
    },
    {
     "data": {
      "image/png": "[encoded data removed]",
      "text/plain": [
       "<Figure size 640x480 with 1 Axes>"
      ]
     },
     "metadata": {},
     "output_type": "display_data"
    },
    {
     "name": "stdout",
     "output_type": "stream",
     "text": [
      "***DONE WITH EPOCH  5  ***\n",
      "\t\ttraining...\n"
     ]
    },
    {
     "name": "stderr",
     "output_type": "stream",
     "text": [
      "100%|██████████| 938/938 [00:49<00:00, 18.86it/s]\n"
     ]
    },
    {
     "name": "stdout",
     "output_type": "stream",
     "text": [
      "\tTRAIN LOSS:  0.006599930375675435\n",
      "\t\ttesting...\n"
     ]
    },
    {
     "name": "stderr",
     "output_type": "stream",
     "text": [
      "100%|██████████| 157/157 [00:03<00:00, 42.98it/s]\n"
     ]
    },
    {
     "name": "stdout",
     "output_type": "stream",
     "text": [
      "\tTEST LOSS:  0.006358739510653125\n",
      "\tGENERATING EXAMPLES...\n",
      "Results with nucleus sampling:\n"
     ]
    },
    {
     "data": {
      "image/png": "[encoded data removed]",
      "text/plain": [
       "<Figure size 640x480 with 1 Axes>"
      ]
     },
     "metadata": {},
     "output_type": "display_data"
    },
    {
     "name": "stdout",
     "output_type": "stream",
     "text": [
      "***DONE WITH EPOCH  6  ***\n",
      "\t\ttraining...\n"
     ]
    },
    {
     "name": "stderr",
     "output_type": "stream",
     "text": [
      "100%|██████████| 938/938 [00:50<00:00, 18.60it/s]\n"
     ]
    },
    {
     "name": "stdout",
     "output_type": "stream",
     "text": [
      "\tTRAIN LOSS:  0.006384015315647191\n",
      "\t\ttesting...\n"
     ]
    },
    {
     "name": "stderr",
     "output_type": "stream",
     "text": [
      "100%|██████████| 157/157 [00:03<00:00, 43.32it/s]\n"
     ]
    },
    {
     "name": "stdout",
     "output_type": "stream",
     "text": [
      "\tTEST LOSS:  0.006158257220652263\n",
      "\tGENERATING EXAMPLES...\n",
      "Results with nucleus sampling:\n"
     ]
    },
    {
     "data": {
      "image/png": "[encoded data removed]",
      "text/plain": [
       "<Figure size 640x480 with 1 Axes>"
      ]
     },
     "metadata": {},
     "output_type": "display_data"
    },
    {
     "name": "stdout",
     "output_type": "stream",
     "text": [
      "***DONE WITH EPOCH  7  ***\n",
      "\t\ttraining...\n"
     ]
    },
    {
     "name": "stderr",
     "output_type": "stream",
     "text": [
      "100%|██████████| 938/938 [00:50<00:00, 18.44it/s]\n"
     ]
    },
    {
     "name": "stdout",
     "output_type": "stream",
     "text": [
      "\tTRAIN LOSS:  0.006221425561194639\n",
      "\t\ttesting...\n"
     ]
    },
    {
     "name": "stderr",
     "output_type": "stream",
     "text": [
      "100%|██████████| 157/157 [00:03<00:00, 42.85it/s]\n"
     ]
    },
    {
     "name": "stdout",
     "output_type": "stream",
     "text": [
      "\tTEST LOSS:  0.006019660239078247\n",
      "\tGENERATING EXAMPLES...\n",
      "Results with nucleus sampling:\n"
     ]
    },
    {
     "data": {
      "image/png": "[encoded data removed]",
      "text/plain": [
       "<Figure size 640x480 with 1 Axes>"
      ]
     },
     "metadata": {},
     "output_type": "display_data"
    },
    {
     "name": "stdout",
     "output_type": "stream",
     "text": [
      "***DONE WITH EPOCH  8  ***\n"
     ]
    }
   ],
   "source": [
    "from tqdm import tqdm\n",
    "\n",
    "transformer_encoder = TransformerEncoderModel().to(DEVICE)\n",
    "print(\"Transformer has \", sum(p.numel() for p in transformer_encoder.parameters()), \" parameters.\")\n",
    "optimiser = torch.optim.AdamW(transformer_encoder.parameters(), lr=0.0001) #use AdamW because it is a good default choice\n",
    "\n",
    "loss_function = torch.nn.BCEWithLogitsLoss(reduce='none')\n",
    "for epoch in range(0, 1000):\n",
    "    transformer_encoder.train()\n",
    "\n",
    "    total_loss = 0\n",
    "    print(\"\\t\\ttraining...\")\n",
    "    for images, labels in tqdm(train_loader):\n",
    "        #turn images into tokens & append SOS and EOS tokens\n",
    "        input = tokenise(images).to(DEVICE)\n",
    "        \n",
    "        #predict the next token for the whole sequence\n",
    "        #i.e. for an input of [b x s] many tokens, we get [b x s x num_tokens] many logits (for each sub-sequence, the probability distribution over the tokens),\n",
    "        #i.e. we predict the next token for [SOS], for [SOS, 0], for [SOS, 0, 255], etc.\n",
    "        output = transformer_encoder(input)\n",
    "        #turn our target (=our input) that is currently a [b x s] many tokens into a one-hot encoded tensor of shape [b x s x num_tokens]\n",
    "        #we always take the tokens shiftet to the right ([1:]), because we want to predict the next token for each token in the sequence\n",
    "        #i.e. predict the 3rd token given the first two, predict the 4th token given the first three, etc.\n",
    "        target = torch.nn.functional.one_hot(input[:,1:], num_classes=NUM_TOKENS+2).float()\n",
    "        loss = loss_function(output, target).mean() #apply binary crossentropy\n",
    "        \n",
    "        #do the optimisation step\n",
    "        optimiser.zero_grad()\n",
    "        loss.backward()\n",
    "        optimiser.step()\n",
    "    \n",
    "        total_loss += loss.detach().item()\n",
    "    print(\"\\tTRAIN LOSS: \",total_loss / len(train_loader))\n",
    "\n",
    "    print(\"\\t\\ttesting...\")\n",
    "    transformer_encoder.eval()\n",
    "    total_loss = 0\n",
    "    with torch.no_grad():\n",
    "        for images, labels in tqdm(test_loader):\n",
    "            input = tokenise(images).to(DEVICE)\n",
    "            \n",
    "            output = transformer_encoder(input)\n",
    "            target = torch.nn.functional.one_hot(input[:,1:], num_classes=NUM_TOKENS+2).float()\n",
    "            loss = loss_function(output, target).mean()\n",
    "            \n",
    "            total_loss += loss.detach().item()\n",
    "    print(\"\\tTEST LOSS: \",total_loss / len(test_loader))\n",
    "\n",
    "    #now generate some examples to see how we're doing\n",
    "    print(\"\\tGENERATING EXAMPLES...\")\n",
    "    #print(\"Results with multinomial sampling:\")\n",
    "    #generate_samples(\"multinomial\")\n",
    "    print(\"Results with nucleus sampling:\")\n",
    "    generate_samples(\"nucleus\")\n",
    "    \n",
    "    print(\"***DONE WITH EPOCH \",epoch,\" ***\")\n",
    "    if epoch == 8:\n",
    "        break"
   ]
  }
 ],
 "metadata": {
  "kernelspec": {
   "display_name": "ldm",
   "language": "python",
   "name": "python3"
  },
  "language_info": {
   "codemirror_mode": {
    "name": "ipython",
    "version": 3
   },
   "file_extension": ".py",
   "mimetype": "text/x-python",
   "name": "python",
   "nbconvert_exporter": "python",
   "pygments_lexer": "ipython3",
   "version": "3.10.9"
  }
 },
 "nbformat": 4,
 "nbformat_minor": 2
}
